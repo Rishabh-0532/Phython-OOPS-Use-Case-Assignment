{
 "cells": [
  {
   "cell_type": "code",
   "execution_count": 1,
   "metadata": {},
   "outputs": [
    {
     "name": "stdout",
     "output_type": "stream",
     "text": [
      "vehicle.name: School volvo speed: 180 mileage: 12\n"
     ]
    }
   ],
   "source": [
    "class vehicle:\n",
    "    def __init__(self,name,max_speed,mileage):\n",
    "        self.name = name\n",
    "        self.max_speed = max_speed\n",
    "        self.mileage = mileage\n",
    "\n",
    "class bus(vehicle):\n",
    "    pass\n",
    "school_bus = bus(\"School volvo\",180,12)\n",
    "print(\"vehicle.name:\",school_bus.name,\"speed:\",school_bus.max_speed,\"mileage:\",school_bus.mileage)"
   ]
  },
  {
   "cell_type": "code",
   "execution_count": 2,
   "metadata": {},
   "outputs": [
    {
     "name": "stdout",
     "output_type": "stream",
     "text": [
      "<class 'type'>\n",
      "dict_keys(['__module__', '__dict__', '__weakref__', '__doc__'])\n",
      "__main__\n"
     ]
    }
   ],
   "source": [
    "class student:\n",
    "    pass\n",
    "print(type(student))\n",
    "print(student.__dict__.keys())\n",
    "print(student.__module__)"
   ]
  },
  {
   "cell_type": "code",
   "execution_count": 3,
   "metadata": {},
   "outputs": [
    {
     "name": "stdout",
     "output_type": "stream",
     "text": [
      "Original attributes their values of the student class\n",
      "student id:V10\n",
      "Student name:Jacqueline Barnett\n"
     ]
    }
   ],
   "source": [
    "class Student:\n",
    "    student_id = 'V10'\n",
    "    student_name = 'Jacqueline Barnett'\n",
    "    def display():\n",
    "        print(f'student id:{Student.student_id}\\nStudent name:{Student.student_name}')\n",
    "print(\"Original attributes their values of the student class\")\n",
    "Student.display()"
   ]
  },
  {
   "cell_type": "code",
   "execution_count": 4,
   "metadata": {},
   "outputs": [
    {
     "name": "stdout",
     "output_type": "stream",
     "text": [
      "\n",
      "\n",
      "student_id -> V12\n",
      "student_name -> Ernesto Mendez\n",
      "\n",
      "\n",
      "student_id -> V12\n",
      "marks_language -> 85\n",
      "marks_science -> 93\n",
      "marks_math -> 95\n"
     ]
    }
   ],
   "source": [
    "class Student:\n",
    "    school = 'YMCA'\n",
    "    address = '26 lohia marg civil lines'\n",
    "student1 = Student()\n",
    "student2 = Student()\n",
    "student1.student_id = \"V12\"\n",
    "student1.student_name = \"Ernesto Mendez\"\n",
    "student2.student_id = \"V12\"\n",
    "student2.marks_language = 85\n",
    "student2.marks_science = 93\n",
    "student2.marks_math = 95\n",
    "students = [student1, student2]\n",
    "for student in students:\n",
    "    print('\\n')\n",
    "    for attr in student.__dict__:\n",
    "        print(f'{attr} -> {getattr(student, attr)}')"
   ]
  },
  {
   "cell_type": "code",
   "execution_count": 5,
   "metadata": {},
   "outputs": [
    {
     "ename": "ModuleNotFoundError",
     "evalue": "No module named 'numpy'",
     "output_type": "error",
     "traceback": [
      "\u001b[1;31m---------------------------------------------------------------------------\u001b[0m",
      "\u001b[1;31mModuleNotFoundError\u001b[0m                       Traceback (most recent call last)",
      "Cell \u001b[1;32mIn[5], line 7\u001b[0m\n\u001b[0;32m      5\u001b[0m         \u001b[39mself\u001b[39m\u001b[39m.\u001b[39mname \u001b[39m=\u001b[39m name\n\u001b[0;32m      6\u001b[0m         \u001b[39mself\u001b[39m\u001b[39m.\u001b[39mprice \u001b[39m=\u001b[39m price\n\u001b[1;32m----> 7\u001b[0m \u001b[39mimport\u001b[39;00m \u001b[39mnumpy\u001b[39;00m \u001b[39mas\u001b[39;00m \u001b[39mnp\u001b[39;00m\n\u001b[0;32m      9\u001b[0m arr \u001b[39m=\u001b[39m np\u001b[39m.\u001b[39mBook([\u001b[39m\"\u001b[39m\u001b[39mHarry Potter\u001b[39m\u001b[39m\"\u001b[39m,\u001b[39m\"\u001b[39m\u001b[39mJK Rowling\u001b[39m\u001b[39m\"\u001b[39m,\u001b[39m\"\u001b[39m\u001b[39mRishabh\u001b[39m\u001b[39m\"\u001b[39m,\u001b[39m1000\u001b[39m])\n\u001b[0;32m     10\u001b[0m x\u001b[39m=\u001b[39m arr\u001b[39m.\u001b[39mview()\n",
      "\u001b[1;31mModuleNotFoundError\u001b[0m: No module named 'numpy'"
     ]
    }
   ],
   "source": [
    "class Book:\n",
    "    def __init__(self,title,author,name,price):\n",
    "        self.title = title\n",
    "        self.author = author\n",
    "        self.name = name\n",
    "        self.price = price\n",
    "import numpy as np\n",
    "\n",
    "arr = np.Book([\"Harry Potter\",\"JK Rowling\",\"Rishabh\",1000])\n",
    "x= arr.view()\n",
    "print(arr)\n",
    "print(x)"
   ]
  }
 ],
 "metadata": {
  "kernelspec": {
   "display_name": "Python 3",
   "language": "python",
   "name": "python3"
  },
  "language_info": {
   "codemirror_mode": {
    "name": "ipython",
    "version": 3
   },
   "file_extension": ".py",
   "mimetype": "text/x-python",
   "name": "python",
   "nbconvert_exporter": "python",
   "pygments_lexer": "ipython3",
   "version": "3.11.1"
  },
  "orig_nbformat": 4,
  "vscode": {
   "interpreter": {
    "hash": "81b007f30950d92ff3e46f0d8894f34ca61157fe07c0a032d4f790877ab746ab"
   }
  }
 },
 "nbformat": 4,
 "nbformat_minor": 2
}
